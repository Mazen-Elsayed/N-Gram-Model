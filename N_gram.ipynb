{
 "cells": [
  {
   "cell_type": "markdown",
   "metadata": {
    "id": "cD9ZRNeIJ_Br"
   },
   "source": [
    "# Download and Process the IMDB Dataset"
   ]
  },
  {
   "cell_type": "code",
   "execution_count": 14,
   "metadata": {
    "colab": {
     "base_uri": "https://localhost:8080/"
    },
    "id": "0olLNujvMbg8",
    "outputId": "9c5b2f67-a12b-4066-ea54-fe27dc605d95"
   },
   "outputs": [],
   "source": [
    "# !pip install --quiet gdown\n",
    "\n",
    "# # 1. Download the zipped IMDB dataset from Drive\n",
    "# # this is the unsup part of https://ai.stanford.edu/~amaas/data/sentiment/\n",
    "\n",
    "# !gdown \"https://drive.google.com/uc?id=1PjJ5cop0pT6tcEw9-ZUstVMujx-o-QTB\" -O imdb_dataset.zip\n",
    "\n",
    "# # 2. Unzip the downloaded file\n",
    "# !unzip -q imdb_dataset.zip -d imdb_data\n"
   ]
  },
  {
   "cell_type": "code",
   "execution_count": 1,
   "metadata": {
    "id": "siDkX864cazJ"
   },
   "outputs": [],
   "source": [
    "import os\n",
    "import re\n",
    "import string\n",
    "import random\n",
    "from collections import defaultdict, Counter\n",
    "import math\n",
    "from math import log, exp\n",
    "from nltk.corpus import stopwords\n",
    "import numpy as np"
   ]
  },
  {
   "cell_type": "code",
   "execution_count": 2,
   "metadata": {
    "id": "G1K-8ybJJ3Cl"
   },
   "outputs": [],
   "source": [
    "def load_imdb_unsup_sentences(folder_path):\n",
    "    \"\"\"\n",
    "    Loads text files from the IMDB 'unsup' (unsupervised) folder.\n",
    "    Reads entire file content, replaces <br /> tags with spaced <nl> token,\n",
    "    splits text by newline, and returns a list of raw lines.\n",
    "    \"\"\"\n",
    "    all_sentences = []\n",
    "    for filename in os.listdir(folder_path):\n",
    "        if filename.endswith(\".txt\"):\n",
    "            with open(os.path.join(folder_path, filename), 'r', encoding='utf-8') as file:\n",
    "                content = file.read()\n",
    "                content = content.replace(\"<br />\", \" <nl> \")\n",
    "                for line in content.split('\\n'):\n",
    "                    line = line.strip()\n",
    "                    if line:\n",
    "                        all_sentences.append(line)\n",
    "    return all_sentences\n",
    "\n",
    "def remove_punctuation(text):\n",
    "    \"\"\"\n",
    "    Removes punctuation from the text,\n",
    "    but keeps <nl> tokens intact.\n",
    "    \"\"\"\n",
    "    punctuation = ''.join(c for c in string.punctuation if c not in '<>')\n",
    "    trans_table = str.maketrans('', '',punctuation)\n",
    "    return text.translate(trans_table)\n",
    "\n",
    "def build_vocabulary(sentences):\n",
    "    \"\"\"\n",
    "    Builds vocabulary from sentences.\n",
    "    Returns both vocabulary set and word counts.\n",
    "    \"\"\"\n",
    "    word_counts = Counter()\n",
    "    for sentence in sentences:\n",
    "        sentence = sentence.lower()\n",
    "        sentence = remove_punctuation(sentence)\n",
    "        tokens = sentence.split()\n",
    "        word_counts.update(tokens)\n",
    "    \n",
    "    # Add special tokens\n",
    "    vocab = set(word_counts.keys())\n",
    "    vocab.update(['<s>', '</s>', '<UNK>'])\n",
    "    return vocab\n",
    "\n",
    "def tokenize(sentences, vocab, unknown=\"<UNK>\"):\n",
    "    \"\"\"\n",
    "    lower each sentence,\n",
    "    Splits each sentence on whitespace, removes punctuation,\n",
    "    and replaces tokens not in the vocabulary with unknowen token.\n",
    "    Returns the list of tokenized sentences.\n",
    "    \"\"\"\n",
    "    tokenized_sentences = []\n",
    "    for sentence in sentences:\n",
    "        sentence = sentence.lower()\n",
    "        sentence = remove_punctuation(sentence)\n",
    "        tokens = sentence.split()\n",
    "        tokenized_sentence = [token if token in vocab else unknown for token in tokens]\n",
    "        tokenized_sentences.append(tokenized_sentence)\n",
    "    return tokenized_sentences"
   ]
  },
  {
   "cell_type": "code",
   "execution_count": 3,
   "metadata": {
    "colab": {
     "base_uri": "https://localhost:8080/"
    },
    "id": "Y-5469mMKcRP",
    "outputId": "736ae7a1-6af4-409e-bb63-6f584154654e"
   },
   "outputs": [
    {
     "name": "stdout",
     "output_type": "stream",
     "text": [
      "Number of raw sentences loaded: 50000\n",
      "Example (first 2 sentences):\n",
      "['I admit, the great majority of films released before say 1933 are just not for me. Of the dozen or so \"major\" silents I have viewed, one I loved (The Crowd), and two were very good (The Last Command and City Lights, that latter Chaplin circa 1931). <nl>  <nl> So I was apprehensive about this one, and humor is often difficult to appreciate (uh, enjoy) decades later. I did like the lead actors, but thought little of the film. <nl>  <nl> One intriguing sequence. Early on, the guys are supposed to get \"de-loused\" and for about three minutes, fully dressed, do some schtick. In the background, perhaps three dozen men pass by, all naked, white and black (WWI ?), and for most, their butts, part or full backside, are shown. Was this an early variation of beefcake courtesy of Howard Hughes?', 'Take a low budget, inexperienced actors doubling as production staff\\x97 as well as limited facilities\\x97and you can\\'t expect much more than \"Time Chasers\" gives you, but you can absolutely expect a lot less. This film represents a bunch of good natured friends and neighbors coming together to collaborate on an interesting project. If your cousin had been one of those involved, you would probably think to yourself, \"ok, this movie is terrible... but a really good effort.\" For all the poorly delivered dialog and ham-fisted editing, \"Time Chasers\" has great scope and ambition... and one can imagine it was necessary to shoot every scene in only one or two takes. So, I\\'m suggesting people cut \"Time Chasers\" some slack before they cut in the jugular. That said, I\\'m not sure I can ever forgive the pseudo-old lady from the grocery store for the worst delivery every wrenched from the jaws of a problematic script.']\n"
     ]
    }
   ],
   "source": [
    "imdb_folder = \"imdb_dataset/unsup\"\n",
    "sentences = load_imdb_unsup_sentences(imdb_folder)\n",
    "\n",
    "print(f\"Number of raw sentences loaded: {len(sentences)}\")\n",
    "print(f\"Example (first 2 sentences):\\n{sentences[:2]}\")"
   ]
  },
  {
   "cell_type": "code",
   "execution_count": 4,
   "metadata": {
    "id": "Qv0J6dGhIidP"
   },
   "outputs": [],
   "source": [
    "assert len(sentences) == 50000, \"Expected 50,000 sentences from the unsup folder.\""
   ]
  },
  {
   "cell_type": "code",
   "execution_count": 5,
   "metadata": {
    "id": "9hA3B8WEKAF_"
   },
   "outputs": [],
   "source": [
    "random.seed(42)\n",
    "\n",
    "def split_data(sentences, test_split=0.1):\n",
    "  \"\"\"\n",
    "  Shuffle the sentences and split them into train and test sets.\n",
    "  The first (1 - test_split) portion of the data is the training set.\n",
    "  Returns the train and test sets.\n",
    "  \"\"\"\n",
    "  random.shuffle(sentences)\n",
    "  split_index = int(len(sentences) * (1 - test_split))\n",
    "  train_sentences = sentences[:split_index]\n",
    "  test_sentences = sentences[split_index:]\n",
    "  return train_sentences, test_sentences\n"
   ]
  },
  {
   "cell_type": "code",
   "execution_count": 6,
   "metadata": {
    "colab": {
     "base_uri": "https://localhost:8080/"
    },
    "id": "MfYWg45aKNzP",
    "outputId": "5c2b987e-6566-4dcb-9d52-e9654148797e"
   },
   "outputs": [
    {
     "name": "stdout",
     "output_type": "stream",
     "text": [
      "Number of training sentences: 45000\n",
      "Number of test sentences: 5000\n"
     ]
    }
   ],
   "source": [
    "train_sentences, test_sentences = split_data(sentences)\n",
    "\n",
    "print(f\"Number of training sentences: {len(train_sentences)}\")\n",
    "print(f\"Number of test sentences: {len(test_sentences)}\")"
   ]
  },
  {
   "cell_type": "code",
   "execution_count": 7,
   "metadata": {
    "id": "i9Hh9ptkKS6Y"
   },
   "outputs": [],
   "source": [
    "assert len(train_sentences) == 45000, \"Expected 45,000 sentences for training.\"\n",
    "assert len(test_sentences) == 5000, \"Expected 5,000 sentences for testing.\"\n"
   ]
  },
  {
   "cell_type": "code",
   "execution_count": 8,
   "metadata": {
    "colab": {
     "base_uri": "https://localhost:8080/"
    },
    "id": "ZI_q9qARKw_u",
    "outputId": "3ce46403-5f41-464d-9907-9b1bd9de6bcf"
   },
   "outputs": [
    {
     "name": "stdout",
     "output_type": "stream",
     "text": [
      "Vocabulary size: 161369\n",
      "Example tokens from first sentence: ['having', 'first', 'seen', 'the', 'directors', '12min', 'take', 'on', 'poes', 'fall'] ...\n"
     ]
    }
   ],
   "source": [
    "vocab = build_vocabulary(train_sentences)\n",
    "tokenized_train = tokenize(train_sentences, vocab)\n",
    "tokenized_test = tokenize(test_sentences, vocab)\n",
    "\n",
    "print(f\"Vocabulary size: {len(vocab)}\")\n",
    "print(f\"Example tokens from first sentence: {tokenized_train[0][:10] if tokenized_train else 'No tokens loaded'} ...\")\n"
   ]
  },
  {
   "cell_type": "code",
   "execution_count": 9,
   "metadata": {
    "id": "9lbynIF5K6xJ"
   },
   "outputs": [],
   "source": [
    "# assert len(vocab) == 161292, \"Expected a vocabulary size of 171,591.\" #skip for replication problems\n",
    "assert len(tokenized_train) == 45000, \"Expected tokenized sentences count to match raw sentences.\"\n",
    "\n",
    "example = \"I love Natural language processing, and i want to be a great engineer.\"\n",
    "assert len(example) == 70, \"Example sentence length (in characters) does not match the expected 70.\"\n",
    "\n",
    "example_tokens = tokenize([example], vocab)[0]\n",
    "assert len(example_tokens) == 13, \"Token count for the example sentence does not match the expected 13.\"\n"
   ]
  },
  {
   "cell_type": "code",
   "execution_count": 10,
   "metadata": {
    "id": "9bQ5K2ubNFhD"
   },
   "outputs": [],
   "source": [
    "def pad_sentence(tokens, n):\n",
    "    \"\"\"\n",
    "    Pads a list of tokens with <s> at the start (n-1 times)\n",
    "    and </s> at the end (once).\n",
    "    For example, if n=3, you add 2 <s> tokens at the start.\n",
    "    \"\"\"\n",
    "    padded = ['<s>'] * (n - 1) + tokens + ['</s>']\n",
    "    return padded\n",
    "\n",
    "def build_ngram_counts(tokenized_sentences, n, vocab):\n",
    "    \"\"\"\n",
    "    Builds n-gram counts and (n-1)-gram counts from the given tokenized sentences.\n",
    "    Each sentence is padded with <s> and </s>.\n",
    "\n",
    "    Args:\n",
    "        tokenized_sentences: list of lists, where each sub-list is a tokenized sentence.\n",
    "        n: the order of the n-gram (e.g., 2 for bigrams, 3 for trigrams).\n",
    "        vocab: set of known words. If provided, you can choose to handle out-of-vocab tokens.\n",
    "\n",
    "    Returns:\n",
    "        ngram_counts: Counter of n-grams (tuples of length n).\n",
    "        context_counts: Counter of (n-1)-gram contexts.\n",
    "    \"\"\"\n",
    "    ngram_counts = Counter()\n",
    "    context_counts = Counter()\n",
    "\n",
    "    for sentence in tokenized_sentences:\n",
    "        padded_sentence = pad_sentence(sentence, n)\n",
    "        for i in range(len(padded_sentence) - n + 1):\n",
    "            ngram = tuple(padded_sentence[i:i + n])\n",
    "            context = tuple(padded_sentence[i:i + n - 1])\n",
    "            if all(token in vocab for token in ngram):\n",
    "                ngram_counts[ngram] += 1\n",
    "                context_counts[context] += 1\n",
    "\n",
    "    return ngram_counts, context_counts\n",
    "\n",
    "def laplace_probability(ngram, ngram_counts, context_counts, vocab_size, alpha=1.0):\n",
    "    \"\"\"\n",
    "    Computes the probability of an n-gram using Laplace (add-alpha) smoothing.\n",
    "\n",
    "    P(w_i | w_{i-(n-1)}, ..., w_{i-1}) =\n",
    "        (count(ngram) + alpha) / (count(context) + alpha * vocab_size)\n",
    "\n",
    "    Args:\n",
    "        ngram: tuple of tokens representing the n-gram\n",
    "        ngram_counts: Counter of n-grams\n",
    "        context_counts: Counter of (n-1)-gram contexts\n",
    "        vocab_size: size of the vocabulary\n",
    "        alpha: smoothing parameter (1.0 = add-1 smoothing)\n",
    "\n",
    "    Returns:\n",
    "        Probability of the given n-gram.\n",
    "    \"\"\"\n",
    "    context = ngram[:-1]\n",
    "    ngram_count = ngram_counts.get(ngram, 0)\n",
    "    context_count = context_counts.get(context, 0)\n",
    "    prob = (ngram_count + alpha) / (context_count + alpha * vocab_size)\n",
    "    return prob\n"
   ]
  },
  {
   "cell_type": "code",
   "execution_count": 11,
   "metadata": {
    "colab": {
     "base_uri": "https://localhost:8080/"
    },
    "id": "KgFRligyRx_8",
    "outputId": "0e6133ac-7d80-4597-a086-b85934d64416"
   },
   "outputs": [
    {
     "name": "stdout",
     "output_type": "stream",
     "text": [
      "Number of unigrams: 161367\n",
      "Number of unigram contexts: 1\n",
      "Number of bigrams: 2281351\n",
      "Number of bigram contexts: 161367\n",
      "Number of trigrams: 6113199\n",
      "Number of trigram contexts: 2272846\n"
     ]
    }
   ],
   "source": [
    "# Unigram\n",
    "n = 1\n",
    "unigram_counts, unigram_context_counts = build_ngram_counts(tokenized_train, n=n, vocab=vocab)\n",
    "print(f\"Number of unigrams: {len(unigram_counts)}\")\n",
    "print(f\"Number of unigram contexts: {len(unigram_context_counts)}\")\n",
    "\n",
    "# Bigram\n",
    "n = 2\n",
    "bigram_counts, bigram_context_counts = build_ngram_counts(tokenized_train, n=n, vocab=vocab)\n",
    "print(f\"Number of bigrams: {len(bigram_counts)}\")\n",
    "print(f\"Number of bigram contexts: {len(bigram_context_counts)}\")\n",
    "\n",
    "# Trigram\n",
    "n = 3\n",
    "trigram_counts, trigram_context_counts = build_ngram_counts(tokenized_train, n=n, vocab=vocab)\n",
    "print(f\"Number of trigrams: {len(trigram_counts)}\")\n",
    "print(f\"Number of trigram contexts: {len(trigram_context_counts)}\")\n"
   ]
  },
  {
   "cell_type": "code",
   "execution_count": 12,
   "metadata": {
    "colab": {
     "base_uri": "https://localhost:8080/"
    },
    "id": "1v4NzCsBMzTN",
    "outputId": "2aa3c438-e7de-457b-ef1e-f19ae1cd2b6f"
   },
   "outputs": [
    {
     "name": "stdout",
     "output_type": "stream",
     "text": [
      "Generated Sequence (Unigram): ['i', 'love', 'cyclone', 'cyclone', 'cyclone', 'cyclone', 'cyclone', 'cyclone', 'cyclone', 'cyclone', 'cyclone', 'cyclone', 'cyclone', 'cyclone', 'cyclone', 'cyclone', 'cyclone', 'cyclone', 'cyclone', 'cyclone', 'cyclone', 'cyclone', 'cyclone', 'cyclone', 'cyclone', 'cyclone', 'cyclone', 'cyclone', 'cyclone', 'cyclone', 'cyclone', 'cyclone', 'cyclone', 'cyclone', 'cyclone', 'cyclone', 'cyclone', 'cyclone', 'cyclone', 'cyclone', 'cyclone', 'cyclone', 'cyclone', 'cyclone', 'cyclone', 'cyclone', 'cyclone', 'cyclone', 'cyclone', 'cyclone', 'cyclone', 'cyclone', 'cyclone', 'cyclone', 'cyclone', 'cyclone', 'cyclone', 'cyclone', 'cyclone', 'cyclone', 'cyclone', 'cyclone', 'cyclone', 'cyclone', 'cyclone', 'cyclone', 'cyclone', 'cyclone', 'cyclone', 'cyclone', 'cyclone', 'cyclone', 'cyclone', 'cyclone', 'cyclone', 'cyclone', 'cyclone', 'cyclone', 'cyclone', 'cyclone', 'cyclone', 'cyclone', 'cyclone', 'cyclone', 'cyclone', 'cyclone', 'cyclone', 'cyclone', 'cyclone', 'cyclone', 'cyclone', 'cyclone', 'cyclone', 'cyclone', 'cyclone', 'cyclone', 'cyclone', 'cyclone', 'cyclone', 'cyclone', 'cyclone', 'cyclone', 'cyclone', 'cyclone', 'cyclone', 'cyclone', 'cyclone', 'cyclone', 'cyclone', 'cyclone', 'cyclone', 'cyclone', 'cyclone', 'cyclone', 'cyclone', 'cyclone', 'cyclone', 'cyclone', 'cyclone', 'cyclone', 'cyclone', 'cyclone', 'cyclone', 'cyclone', 'cyclone', 'cyclone', 'cyclone', 'cyclone']\n",
      "Generated Sequence (Bigram): ['i', 'love', 'with', 'the', 'film', 'is', 'a', 'lot', 'of', 'the', 'film', 'is', 'a', 'lot', 'of', 'the', 'film', 'is', 'a', 'lot', 'of', 'the', 'film', 'is', 'a', 'lot', 'of', 'the', 'film', 'is', 'a', 'lot', 'of', 'the', 'film', 'is', 'a', 'lot', 'of', 'the', 'film', 'is', 'a', 'lot', 'of', 'the', 'film', 'is', 'a', 'lot', 'of', 'the', 'film', 'is', 'a', 'lot', 'of', 'the', 'film', 'is', 'a', 'lot', 'of', 'the', 'film', 'is', 'a', 'lot', 'of', 'the', 'film', 'is', 'a', 'lot', 'of', 'the', 'film', 'is', 'a', 'lot', 'of', 'the', 'film', 'is', 'a', 'lot', 'of', 'the', 'film', 'is', 'a', 'lot', 'of', 'the', 'film', 'is', 'a', 'lot', 'of', 'the', 'film', 'is', 'a', 'lot', 'of', 'the', 'film', 'is', 'a', 'lot', 'of', 'the', 'film', 'is', 'a', 'lot', 'of', 'the', 'film', 'is', 'a', 'lot', 'of', 'the', 'film', 'is', 'a', 'lot']\n",
      "Generated Sequence (Trigram): ['i', 'love', 'the', 'way', 'the', 'film', 'is', 'a', 'very', 'good', 'and', 'the', 'film', 'is', 'a', 'very', 'good', 'and', 'the', 'film', 'is', 'a', 'very', 'good', 'and', 'the', 'film', 'is', 'a', 'very', 'good', 'and', 'the', 'film', 'is', 'a', 'very', 'good', 'and', 'the', 'film', 'is', 'a', 'very', 'good', 'and', 'the', 'film', 'is', 'a', 'very', 'good', 'and', 'the', 'film', 'is', 'a', 'very', 'good', 'and', 'the', 'film', 'is', 'a', 'very', 'good', 'and', 'the', 'film', 'is', 'a', 'very', 'good', 'and', 'the', 'film', 'is', 'a', 'very', 'good', 'and', 'the', 'film', 'is', 'a', 'very', 'good', 'and', 'the', 'film', 'is', 'a', 'very', 'good', 'and', 'the', 'film', 'is', 'a', 'very', 'good', 'and', 'the', 'film', 'is', 'a', 'very', 'good', 'and', 'the', 'film', 'is', 'a', 'very', 'good', 'and', 'the', 'film', 'is', 'a', 'very', 'good', 'and', 'the', 'film', 'is', 'a', 'very']\n"
     ]
    }
   ],
   "source": [
    "from math import log, exp\n",
    "\n",
    "def predict_next_token(\n",
    "    context_tokens,\n",
    "    ngram_counts,\n",
    "    context_counts,\n",
    "    vocab,\n",
    "    n=2,\n",
    "    alpha=1.0,\n",
    "    top_k=5\n",
    "):\n",
    "    \"\"\"\n",
    "    Given a list of context tokens, predict the next token using the n-gram model.\n",
    "    Returns the top_k predictions as (token, probability).\n",
    "    \"\"\"\n",
    "    context = tuple(context_tokens[-(n-1):])\n",
    "    candidates = []\n",
    "    \n",
    "    for token in vocab:\n",
    "        ngram = context + (token,)\n",
    "        prob = laplace_probability(ngram, ngram_counts, context_counts, len(vocab), alpha)\n",
    "        candidates.append((token, prob))\n",
    "    \n",
    "    candidates.sort(key=lambda x: x[1], reverse=True)\n",
    "    return candidates[:top_k]\n",
    "\n",
    "def generate_text_with_limit(\n",
    "    start_tokens,\n",
    "    ngram_counts,\n",
    "    context_counts,\n",
    "    vocab,\n",
    "    n=2,\n",
    "    alpha=1.0,\n",
    "    max_length=20\n",
    "):\n",
    "    \"\"\"\n",
    "    Generates text from an n-gram model until it sees </s>\n",
    "    or reaches a maximum total length (max_length).\n",
    "\n",
    "    Args:\n",
    "      start_tokens (list): initial context to begin generation\n",
    "      ngram_counts (Counter): trained n-gram counts\n",
    "      context_counts (Counter): trained (n-1)-gram counts\n",
    "      vocab (set): the model vocabulary\n",
    "      n (int): n-gram order, 2 for bigram, 3 for trigram, etc.\n",
    "      alpha (float): Laplace smoothing parameter\n",
    "      max_length (int): maximum number of tokens to generate (including start_tokens)\n",
    "\n",
    "    Returns:\n",
    "      A list of tokens representing the generated sequence.\n",
    "    \"\"\"\n",
    "    generated = start_tokens[:]\n",
    "    \n",
    "    while len(generated) < max_length:\n",
    "        context = generated[-(n-1):]\n",
    "        next_token_candidates = predict_next_token(context, ngram_counts, context_counts, vocab, n, alpha, top_k=1)\n",
    "        \n",
    "        if not next_token_candidates:\n",
    "            break\n",
    "        \n",
    "        next_token = next_token_candidates[0][0]\n",
    "        if next_token == '</s>':\n",
    "            break\n",
    "        \n",
    "        generated.append(next_token)\n",
    "    \n",
    "    return generated\n",
    "\n",
    "context = [\"i\", \"love\"]\n",
    "generated_seq_unigram = generate_text_with_limit(\n",
    "    start_tokens=context,\n",
    "    ngram_counts=unigram_counts,\n",
    "    context_counts=unigram_context_counts,\n",
    "    vocab=vocab,\n",
    "    n=1,\n",
    "    alpha=1.0,\n",
    "    max_length=128\n",
    ")\n",
    "print(\"Generated Sequence (Unigram):\", generated_seq_unigram)\n",
    "\n",
    "generated_seq_bigram = generate_text_with_limit(\n",
    "    start_tokens=context,\n",
    "    ngram_counts=bigram_counts,\n",
    "    context_counts=bigram_context_counts,\n",
    "    vocab=vocab,\n",
    "    n=2,\n",
    "    alpha=1.0,\n",
    "    max_length=128\n",
    ")\n",
    "print(\"Generated Sequence (Bigram):\", generated_seq_bigram)\n",
    "\n",
    "generated_seq_trigram = generate_text_with_limit(\n",
    "    start_tokens=context,\n",
    "    ngram_counts=trigram_counts,\n",
    "    context_counts=trigram_context_counts,\n",
    "    vocab=vocab,\n",
    "    n=3,\n",
    "    alpha=1.0,\n",
    "    max_length=128\n",
    ")\n",
    "print(\"Generated Sequence (Trigram):\", generated_seq_trigram)"
   ]
  },
  {
   "cell_type": "code",
   "execution_count": 13,
   "metadata": {
    "id": "_LN_xGAcGPnt"
   },
   "outputs": [
    {
     "name": "stdout",
     "output_type": "stream",
     "text": [
      "Perplexity (Unigram): 1263.73\n",
      "Perplexity (Bigram): 3586.43\n",
      "Perplexity (Trigram): 39226.19\n"
     ]
    }
   ],
   "source": [
    "def calculate_perplexity(\n",
    "    tokenized_sentences,\n",
    "    ngram_counts,\n",
    "    context_counts,\n",
    "    vocab_size,\n",
    "    n=2,\n",
    "    alpha=1.0\n",
    "):\n",
    "    \"\"\"\n",
    "    Calculates the perplexity of an n-gram model (with Laplace smoothing)\n",
    "    on a list of tokenized sentences.\n",
    "    \"\"\"\n",
    "    log_prob_sum = 0.0\n",
    "    total_words = 0\n",
    "\n",
    "    for sentence in tokenized_sentences: \n",
    "        if isinstance(sentence, str):\n",
    "            sentence = sentence.split()\n",
    "            \n",
    "        padded_sent = pad_sentence(sentence, n)\n",
    "        total_words += len(sentence)\n",
    "        \n",
    "        for i in range(len(padded_sent) - n + 1):\n",
    "            ngram = tuple(padded_sent[i:i + n])\n",
    "            prob = laplace_probability(ngram, ngram_counts, context_counts, vocab_size, alpha)\n",
    "            #log base e (natural logarithm)\n",
    "            log_prob_sum += np.log(prob)\n",
    "    \n",
    "    #average negative log probability\n",
    "    avg_log_prob = -1 * log_prob_sum / total_words\n",
    "    return np.exp(avg_log_prob)\n",
    "\n",
    "perplexity_unigram = calculate_perplexity(tokenized_test, unigram_counts, unigram_context_counts, len(vocab), n=1, alpha=1.0)\n",
    "print(f\"Perplexity (Unigram): {perplexity_unigram:.2f}\")\n",
    "\n",
    "perplexity_bigram = calculate_perplexity(tokenized_test, bigram_counts, bigram_context_counts, len(vocab), n=2, alpha=1.0)\n",
    "print(f\"Perplexity (Bigram): {perplexity_bigram:.2f}\")\n",
    "\n",
    "perplexity_trigram = calculate_perplexity(tokenized_test, trigram_counts, trigram_context_counts, len(vocab), n=3, alpha=1.0)\n",
    "print(f\"Perplexity (Trigram): {perplexity_trigram:.2f}\")"
   ]
  }
 ],
 "metadata": {
  "colab": {
   "provenance": [],
   "toc_visible": true
  },
  "kernelspec": {
   "display_name": "Python 3",
   "name": "python3"
  },
  "language_info": {
   "codemirror_mode": {
    "name": "ipython",
    "version": 3
   },
   "file_extension": ".py",
   "mimetype": "text/x-python",
   "name": "python",
   "nbconvert_exporter": "python",
   "pygments_lexer": "ipython3",
   "version": "3.12.6"
  }
 },
 "nbformat": 4,
 "nbformat_minor": 0
}
